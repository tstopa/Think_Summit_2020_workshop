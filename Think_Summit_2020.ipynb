{
 "cells": [
  {
   "cell_type": "code",
   "execution_count": 2,
   "metadata": {},
   "outputs": [],
   "source": [
    "%matplotlib inline\n",
    "from qiskit import QuantumCircuit, QuantumRegister, ClassicalRegister, execute, Aer, IBMQ\n",
    "from qiskit.visualization import *\n",
    "from qiskit.tools.jupyter import *\n",
    "from qiskit.tools.monitor import backend_overview\n",
    "from qiskit.aqua.algorithms import Shor"
   ]
  },
  {
   "cell_type": "code",
   "execution_count": 3,
   "metadata": {},
   "outputs": [
    {
     "name": "stderr",
     "output_type": "stream",
     "text": [
      "C:\\Anaconda3\\lib\\site-packages\\qiskit\\providers\\ibmq\\ibmqfactory.py:192: UserWarning: Timestamps in IBMQ backend properties, jobs, and job results are all now in local time instead of UTC.\n",
      "  warnings.warn('Timestamps in IBMQ backend properties, jobs, and job results '\n"
     ]
    }
   ],
   "source": [
    "# Loading IBM Quantum Experience account token\n",
    "# Only needed when running Qiskit on your computer\n",
    "# You need to first save account with: IBMQ.save_account(\"<token>\")\n",
    "\n",
    "provider = IBMQ.load_account()"
   ]
  },
  {
   "cell_type": "markdown",
   "metadata": {},
   "source": [
    "# Choosing backend"
   ]
  },
  {
   "cell_type": "code",
   "execution_count": 4,
   "metadata": {
    "scrolled": true
   },
   "outputs": [
    {
     "name": "stdout",
     "output_type": "stream",
     "text": [
      "ibmq_santiago                ibmq_armonk                  ibmq_valencia\n",
      "-------------                -----------                  -------------\n",
      "Num. Qubits:  5              Num. Qubits:  1              Num. Qubits:  5\n",
      "Pending Jobs: 7              Pending Jobs: 17             Pending Jobs: 33\n",
      "Least busy:   True           Least busy:   False          Least busy:   False\n",
      "Operational:  True           Operational:  True           Operational:  True\n",
      "Avg. T1:      163.2          Avg. T1:      170.1          Avg. T1:      89.0\n",
      "Avg. T2:      142.5          Avg. T2:      201.9          Avg. T2:      54.5\n",
      "\n",
      "\n",
      "\n",
      "ibmq_ourense                 ibmq_vigo                    ibmq_16_melbourne\n",
      "------------                 ---------                    -----------------\n",
      "Num. Qubits:  5              Num. Qubits:  5              Num. Qubits:  15\n",
      "Pending Jobs: 80             Pending Jobs: 28             Pending Jobs: 11\n",
      "Least busy:   False          Least busy:   False          Least busy:   False\n",
      "Operational:  True           Operational:  True           Operational:  True\n",
      "Avg. T1:      117.3          Avg. T1:      93.5           Avg. T1:      56.9\n",
      "Avg. T2:      66.7           Avg. T2:      72.6           Avg. T2:      58.9\n",
      "\n",
      "\n",
      "\n",
      "ibmqx2                       ibmq_london                  ibmq_burlington\n",
      "------                       -----------                  ---------------\n",
      "Num. Qubits:  5              Num. Qubits:  5              Num. Qubits:  5\n",
      "Pending Jobs: 9              Pending Jobs: 7              Pending Jobs: 8\n",
      "Least busy:   False          Least busy:   False          Least busy:   False\n",
      "Operational:  True           Operational:  False          Operational:  False\n",
      "Avg. T1:      60.4           Avg. T1:      69.2           Avg. T1:      69.3\n",
      "Avg. T2:      42.7           Avg. T2:      87.9           Avg. T2:      64.4\n",
      "\n",
      "\n",
      "\n",
      "ibmq_essex\n",
      "----------\n",
      "Num. Qubits:  5\n",
      "Pending Jobs: 7\n",
      "Least busy:   False\n",
      "Operational:  False\n",
      "Avg. T1:      97.0\n",
      "Avg. T2:      118.7\n",
      "\n",
      "\n",
      "\n"
     ]
    }
   ],
   "source": [
    "backend_overview()"
   ]
  },
  {
   "cell_type": "code",
   "execution_count": 5,
   "metadata": {},
   "outputs": [],
   "source": [
    "backend=provider.get_backend('ibmq_santiago')"
   ]
  },
  {
   "cell_type": "code",
   "execution_count": 6,
   "metadata": {
    "scrolled": true
   },
   "outputs": [
    {
     "data": {
      "image/png": "[encoded data removed]",
      "text/plain": [
       "<Figure size 864x648 with 5 Axes>"
      ]
     },
     "execution_count": 6,
     "metadata": {},
     "output_type": "execute_result"
    }
   ],
   "source": [
    "plot_error_map(backend)"
   ]
  },
  {
   "cell_type": "markdown",
   "metadata": {},
   "source": [
    "# Coin flip simulation"
   ]
  },
  {
   "cell_type": "markdown",
   "metadata": {},
   "source": [
    "We need just one qubit which after measurement will give either 0 or 1."
   ]
  },
  {
   "cell_type": "code",
   "execution_count": 7,
   "metadata": {},
   "outputs": [],
   "source": [
    "qr = QuantumRegister(1)\n",
    "cr = ClassicalRegister(1)\n",
    "circuit = QuantumCircuit(qr, cr)"
   ]
  },
  {
   "cell_type": "markdown",
   "metadata": {},
   "source": [
    "Hadamard gate does what we need as it introduces superposition with equal participation of $|0>$ and $|1>$"
   ]
  },
  {
   "cell_type": "code",
   "execution_count": 8,
   "metadata": {},
   "outputs": [
    {
     "data": {
      "text/plain": [
       "<qiskit.circuit.instructionset.InstructionSet at 0x11b00b812c8>"
      ]
     },
     "execution_count": 8,
     "metadata": {},
     "output_type": "execute_result"
    }
   ],
   "source": [
    "circuit.h(qr)\n",
    "circuit.measure(qr, cr)"
   ]
  },
  {
   "cell_type": "markdown",
   "metadata": {},
   "source": [
    "Let's use simulator to get the results quicker. However for really random numbers (REALLY!) we need real backend - used in exactly analogical way, just replace ```backend_simulator``` with ```backend``` in the ```execute()``` function below."
   ]
  },
  {
   "cell_type": "code",
   "execution_count": 9,
   "metadata": {},
   "outputs": [],
   "source": [
    "backend_simulator = Aer.get_backend('qasm_simulator')"
   ]
  },
  {
   "cell_type": "code",
   "execution_count": 15,
   "metadata": {},
   "outputs": [],
   "source": [
    "job = execute(circuit, backend_simulator, shots=20, memory=True)"
   ]
  },
  {
   "cell_type": "markdown",
   "metadata": {},
   "source": [
    "Note that using ```memory=True``` we get access to results of individual shots."
   ]
  },
  {
   "cell_type": "code",
   "execution_count": 11,
   "metadata": {
    "scrolled": true
   },
   "outputs": [
    {
     "name": "stdout",
     "output_type": "stream",
     "text": [
      "['1', '1', '0', '0', '0', '0', '0', '0', '1', '0', '0', '0', '1', '1', '0', '1', '0', '1', '1', '0']\n"
     ]
    }
   ],
   "source": [
    "data = job.result().get_memory()\n",
    "print(data)"
   ]
  },
  {
   "cell_type": "code",
   "execution_count": 16,
   "metadata": {},
   "outputs": [
    {
     "name": "stdout",
     "output_type": "stream",
     "text": [
      "{'0': 10, '1': 10}\n"
     ]
    }
   ],
   "source": [
    "counts = job.result().get_counts()\n",
    "print(counts)"
   ]
  },
  {
   "cell_type": "markdown",
   "metadata": {},
   "source": [
    "# Useful links to continue with Qiskit:\n",
    "* [Official Qiskit web page](https://qiskit.org/)\n",
    "* [Qiskit github project - with many tutorials](https://github.com/qiskit)\n",
    "* [Qiskit learning materials](https://qiskit.org/learn/)\n"
   ]
  }
 ],
 "metadata": {
  "kernelspec": {
   "display_name": "Python 3",
   "language": "python",
   "name": "python3"
  },
  "language_info": {
   "codemirror_mode": {
    "name": "ipython",
    "version": 3
   },
   "file_extension": ".py",
   "mimetype": "text/x-python",
   "name": "python",
   "nbconvert_exporter": "python",
   "pygments_lexer": "ipython3",
   "version": "3.7.4"
  }
 },
 "nbformat": 4,
 "nbformat_minor": 2
}
